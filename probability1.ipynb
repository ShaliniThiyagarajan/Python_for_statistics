{
  "cells": [
    {
      "cell_type": "markdown",
      "metadata": {
        "id": "ySyIMZQDIK45"
      },
      "source": [
        "# Probability for statistics2"
      ]
    },
    {
      "cell_type": "code",
      "execution_count": 3,
      "metadata": {
        "colab": {
          "base_uri": "https://localhost:8080/"
        },
        "id": "jIxL1nq4IK5B",
        "outputId": "6e1eace5-ccbd-4fe0-d8d4-8eeb3f43a3fb"
      },
      "outputs": [
        {
          "output_type": "stream",
          "name": "stdout",
          "text": [
            "Requirement already satisfied: numpy in /usr/local/lib/python3.7/dist-packages (1.19.5)\n"
          ]
        }
      ],
      "source": [
        "pip install numpy"
      ]
    },
    {
      "cell_type": "markdown",
      "metadata": {
        "id": "RQ2kExXSIK5D"
      },
      "source": [
        "Installing the numpy libriray for using to slove the statistics "
      ]
    },
    {
      "cell_type": "code",
      "execution_count": 4,
      "metadata": {
        "id": "ieSzsoIDIK5E"
      },
      "outputs": [],
      "source": [
        "import numpy as np\n",
        "\n"
      ]
    },
    {
      "cell_type": "markdown",
      "metadata": {
        "id": "YJDI2jxBIK5F"
      },
      "source": [
        "To import necessary libariaries for doing this part"
      ]
    },
    {
      "cell_type": "markdown",
      "metadata": {
        "id": "rii9AQYbIK5F"
      },
      "source": [
        "#### The function for uniform outcomes\n",
        "n be the number of outcomes.\n",
        "the range of randomly selected output from 1 to n"
      ]
    },
    {
      "cell_type": "code",
      "execution_count": 5,
      "metadata": {
        "id": "U2JQs_c0IK5K"
      },
      "outputs": [],
      "source": [
        "def uniform(n, m):\n",
        "    return np.random.randint(1, n+1, size= m)"
      ]
    },
    {
      "cell_type": "markdown",
      "metadata": {
        "id": "sz9qhzw-IK5L"
      },
      "source": [
        "## Toss a coin"
      ]
    },
    {
      "cell_type": "markdown",
      "metadata": {
        "id": "Nbc6JxStIK5M"
      },
      "source": [
        "Toss once, 10 times, 100 times\n",
        "It has a head and a tail"
      ]
    },
    {
      "cell_type": "code",
      "execution_count": 6,
      "metadata": {
        "colab": {
          "base_uri": "https://localhost:8080/"
        },
        "id": "XXOjirhnIK5M",
        "outputId": "2c113f72-98ca-41bb-bad3-f31e43d2137a"
      },
      "outputs": [
        {
          "output_type": "stream",
          "name": "stdout",
          "text": [
            "[1]\n",
            "[2 2 2 2 2 2 1 2 2 2]\n",
            "[1 1 2 2 2 2 2 2 2 1 1 2 1 2 1 1 2 1 1 2 2 1 1 1 1 2 2 2 2 2 2 1 2 2 1 1 2\n",
            " 1 2 1 1 2 1 1 2 1 2 2 1 2 1 1 2 2 2 2 2 2 1 1 2 1 1 2 2 2 2 2 1 1 1 2 1 2\n",
            " 1 2 1 1 1 1 1 2 2 1 2 2 2 2 2 1 2 2 1 2 2 2 2 1 2 2]\n"
          ]
        }
      ],
      "source": [
        "print(uniform(2,1))\n",
        "print(uniform(2,10))\n",
        "print(uniform(2,100))"
      ]
    },
    {
      "cell_type": "markdown",
      "metadata": {
        "id": "6MIQAczfIK5N"
      },
      "source": [
        "# Throw a fair dice\n",
        "Throw with one dice\n",
        "Throw with two dice"
      ]
    },
    {
      "cell_type": "code",
      "execution_count": 7,
      "metadata": {
        "colab": {
          "base_uri": "https://localhost:8080/"
        },
        "id": "QanzzVCVIK5O",
        "outputId": "891d5dcd-cc57-4735-f6ea-1fcb3d898548"
      },
      "outputs": [
        {
          "output_type": "stream",
          "name": "stdout",
          "text": [
            "[2]\n",
            "[3 2]\n"
          ]
        }
      ],
      "source": [
        "print(uniform(6,1))\n",
        "print(uniform(6,2))\n"
      ]
    },
    {
      "cell_type": "markdown",
      "source": [
        "# Estimating probability by** Monte carlo simulation**\n"
      ],
      "metadata": {
        "id": "C5tQYVL5I1sV"
      }
    },
    {
      "cell_type": "markdown",
      "source": [
        "Monte Carlo simulation furnishes the decision-maker with a range of possible outcomes and the probabilities they will occur for any choice of action. It shows the extreme possibilities—the outcomes of going for broke and for the most conservative decision—along with all possible consequences for middle-of-the-road decisions.\n",
        "\n",
        "\n",
        "# How Monte Carlo Simulation Works\n",
        "\n",
        "Monte Carlo simulation performs risk analysis by building models of possible results by substituting a range of values—a probability distribution—for any factor that has inherent uncertainty. It then calculates results over and over, each time using a different set of random values from the probability functions. Depending upon the number of uncertainties and the ranges specified for them, a Monte Carlo simulation could involve thousands or tens of thousands of recalculations before it is complete. Monte Carlo simulation produces distributions of possible outcome values.\n",
        "\n",
        "\n",
        "Monte Carlo simulation provides a number of advantages over deterministic, or “**single-point estimate**” analysis:\n",
        "\n",
        "\n",
        "\n",
        "\n",
        "1.   Probabilistic Results. Results show not only what could happen, but how likely each outcome is.\n",
        "2.   Graphical Results. Because of the data a Monte Carlo simulation generates, it’s easy to create graphs of different outcomes and their chances of occurrence. This is important for communicating findings to other stakeholders.\n",
        "3.   Sensitivity Analysis. With just a few cases, deterministic analysis makes it difficult to see which variables impact the outcome the most. In Monte Carlo simulation, it’s easy to see which inputs had the biggest effect on bottom-line results.\n",
        "4.   Scenario Analysis: In deterministic models, it’s very difficult to model different combinations of values for different inputs to see the effects of truly different scenarios. Using Monte Carlo simulation, analysts can see exactly which inputs had which values together when certain outcomes occurred.\n",
        "5.   This is invaluable for pursuing further analysis.\n",
        "Correlation of Inputs. In Monte Carlo simulation, it’s possible to model interdependent relationships between input variables. It’s important for accuracy to represent how, in reality, when some factors goes up, others go up or down accordingly.\n",
        "\n",
        "\n"
      ],
      "metadata": {
        "id": "Ek1209iKKL9P"
      }
    },
    {
      "cell_type": "markdown",
      "source": [
        "# Estimating probability of head with 2000 number trail in monte carlo Simulation"
      ],
      "metadata": {
        "id": "CzDumZQlLfWh"
      }
    },
    {
      "cell_type": "code",
      "execution_count": 14,
      "metadata": {
        "colab": {
          "base_uri": "https://localhost:8080/"
        },
        "id": "DGKWll8nIK5P",
        "outputId": "b18c3bd6-a529-47fa-d70a-b5622c4e1df2"
      },
      "outputs": [
        {
          "name": "stdout",
          "output_type": "stream",
          "text": [
            "enter the number of trails1000\n"
          ]
        },
        {
          "output_type": "execute_result",
          "data": {
            "text/plain": [
              "0.481"
            ]
          },
          "metadata": {},
          "execution_count": 14
        }
      ],
      "source": [
        "n=int(input(\"enter the number of trails\"))\n",
        "no_of_heads=0 # intializing the number of head as zero\n",
        "for i in range(n): # iterating the loop for 2000 times\n",
        "  if uniform(2,1) == 1:\n",
        "    no_of_heads=no_of_heads+1\n",
        "probality=no_of_heads/n # finding the probality by Monte carlo simulation\n",
        "probality\n"
      ]
    },
    {
      "cell_type": "markdown",
      "source": [
        "# Estimating probability of six in a dice with 2000 number trail in monte carlo Simulation"
      ],
      "metadata": {
        "id": "bmWHfOfpMzQm"
      }
    },
    {
      "cell_type": "code",
      "source": [
        "n=int(input(\"enter the number of trails \"))\n",
        "no_of_six=0 # intializing the number of head as zero\n",
        "for i in range(n): # iterating the loop for 2000 times\n",
        "  experiment=uniform(6,1) #experiment\n",
        "  if experiment == 6:# event\n",
        "    no_of_six=no_of_six+1# occur counting\n",
        "probality=no_of_six/n # finding the probality by Monte carlo simulation\n",
        "print(\"probality of getting 6  is {}\".format(probality))\n",
        "for i in range(n): # iterating the loop for 2000 times\n",
        "  experiment=uniform(6,1) #experiment\n",
        "  if experiment == 6 or experiment == 3:# events\n",
        "    no_of_six=no_of_six+1 # occur counting\n",
        "probality1=no_of_six/n # finding the probality by Monte carlo simulation\n",
        "print(\"probality of getting 6 or 3 is {}\".format(probality1))\n"
      ],
      "metadata": {
        "colab": {
          "base_uri": "https://localhost:8080/"
        },
        "id": "n951xz6cLu7-",
        "outputId": "a6293817-8e2d-4f20-e91a-c42dfafb817d"
      },
      "execution_count": 20,
      "outputs": [
        {
          "output_type": "stream",
          "name": "stdout",
          "text": [
            "enter the number of trails 3000\n",
            "probality of getting 6  is 0.16533333333333333\n",
            "probality of getting 6 or 3 is 0.5073333333333333\n"
          ]
        }
      ]
    },
    {
      "cell_type": "markdown",
      "source": [
        "# Birthday preblem,\n",
        "\n",
        "More than two people share the same day as birthday.\n",
        "\n",
        "in agroup n persons, what is teh chanv=ce taht some two have the same birthday?\n",
        "Assume there birthday are uniformly distributed in **{1,2,3....365}** and they independent of each other.\n",
        "\n",
        "Event **A**: Some two have same birthday\n",
        "Event **A(compliment)**:  No two have smae birthday\n",
        "\n",
        "\n",
        "\n"
      ],
      "metadata": {
        "id": "vCp1J71LOQdR"
      }
    },
    {
      "cell_type": "code",
      "source": [
        "no=0 #variable for sorting number of event occurance\n",
        "n=int(input(\"enter the number of person \"))\n",
        "trails=int(input(\"enter the number of trails \"))\n",
        "print(1-np.prod(1-np.arange(1,n)/365))\n",
        "\n",
        "for i in range(trails):\n",
        "  B=np.zeros(366) # initalizing array of 366 size with zero\n",
        "  for j in range(n):\n",
        "    Bi= uniform(365,1) # i-th birthday\n",
        "    if B[Bi] == 0: #if Birthday is already seen\n",
        "      B[Bi]=1\n",
        "    else:\n",
        "      no=no+1 # occur counting\n",
        "      break\n",
        "probility=no/trails # finding the probality by Monte carlo simulation\n",
        "print (\"probility of getting birthday for more than two person is {}\".format(probility)) # probability estimate by monte carlo "
      ],
      "metadata": {
        "colab": {
          "base_uri": "https://localhost:8080/"
        },
        "id": "ZMAdlSmZTUuW",
        "outputId": "1aee4d1f-c781-4b5f-8562-df6c6493e00f"
      },
      "execution_count": 31,
      "outputs": [
        {
          "output_type": "stream",
          "name": "stdout",
          "text": [
            "enter the number of person 30\n",
            "enter the number of trails 1000\n",
            "0.7063162427192687\n",
            "probility of getting birthday for more than two person is 0.687\n"
          ]
        }
      ]
    },
    {
      "cell_type": "markdown",
      "source": [
        "# Monty Hall Problem.\n",
        "\n",
        "\n",
        "### Problem statement.\n",
        "\n",
        "\n",
        "In the problem, you are on a game show, being asked to choose between three doors. Behind each door, there is either a car or a goat. You choose a door. The host, Monty Hall, picks one of the other doors, which he knows has a goat behind it, and opens it, showing you the goat. (You know, by the rules of the game, that Monty will always reveal a goat.) Monty then asks whether you would like to switch your choice of door to the other remaining door. Assuming you prefer having a car more than having a goat, do you choose to switch or not to switch?"
      ],
      "metadata": {
        "id": "qTCBKlLra8xx"
      }
    },
    {
      "cell_type": "code",
      "source": [
        "no=0 #variable for sorting number of event occurance\n",
        "trails=int(input(\"enter the number of trails \"))\n",
        "for i in range(trails):\n",
        "  carloc=uniform(3,1)# organiser kept\n",
        "  if carloc==1:\n",
        "    goatloc1 =2;\n",
        "    goatloc2 =3;\n",
        "  elif carloc== 2:\n",
        "    goatloc1 =1;\n",
        "    goatloc2 =3;\n",
        "  else :\n",
        "    goatloc1 =1;\n",
        "    goatloc2 =2;\n",
        "  contestant_org= uniform(3,1) # contestant finding the loc of car\n",
        "  if contestant_org == goatloc1 :\n",
        "    host_reveal_loc= goatloc2;\n",
        "    other_closed= carloc\n",
        "  elif contestant_org == goatloc2 :\n",
        "    host_reveal_loc= goatloc1;\n",
        "    other_closed= carloc\n",
        "  else :\n",
        "    host_reveal_loc= goatloc1;\n",
        "    other_closed= goatloc2\n",
        "  if other_closed == carloc :# count the number of success \n",
        "    no=no+1\n",
        "probability1=no/trails# finding the probality by Monte carlo simulation\n",
        "print(\"proality of estimation for mothy hall problem  for {} is {}\". format(trails, probability1 ))\n",
        "  \n"
      ],
      "metadata": {
        "colab": {
          "base_uri": "https://localhost:8080/"
        },
        "id": "jBSm9AdWbGzc",
        "outputId": "f9f16701-daa6-4b43-bfc5-167bfee38c33"
      },
      "execution_count": 35,
      "outputs": [
        {
          "output_type": "stream",
          "name": "stdout",
          "text": [
            "enter the number of trails 2000\n",
            "proality of estimation for mothy hall problem  for 2000 is 0.6615\n"
          ]
        }
      ]
    },
    {
      "cell_type": "markdown",
      "source": [
        "# Gamler's problem\n",
        "\n",
        "The Gambler's Ruin problem is essentially a Markov chain where the sequence of wealth amounts that gambler A has at any point in time determines the underlying structure. That is, at any point in time n, gambler A can have i wealth, where i also represents the state of the chain at time n.\n",
        "\n",
        "\n",
        "He tossess the coin, if heads then casino will pay him 1 unit.\n",
        "if tails then casino will detect money from him 1 unit.\n",
        "He starts him games with money of N units, he will continue, when money is in between 0 and N.\n",
        "\n",
        " That is if no money , automatically, he canot continue the game.\n"
      ],
      "metadata": {
        "id": "bP9TfWKhfUoo"
      }
    },
    {
      "cell_type": "code",
      "source": [
        "no=0 # storing the number of success.\n",
        "N=int(input(\"Money he had in the starting \"))\n",
        "trails=int(input(\"enter the number of trails \"))\n",
        "for i in range(trails):\n",
        "  k=5\n",
        "  while k>0 and k<N :\n",
        "     experiment=uniform(2,1) #experiment\n",
        "     if experiment == 1:\n",
        "       k=k+1\n",
        "     else:\n",
        "       k=k-1\n",
        "  if k==0:\n",
        "    no=no+1\n",
        "probability1=no/trails# finding the probality bankrupty by Monte carlo simulation\n",
        "print(\"proality of estimation for Gamler's problem  for {} is {}\". format(trails, probability1 ))\n",
        "    "
      ],
      "metadata": {
        "colab": {
          "base_uri": "https://localhost:8080/"
        },
        "id": "8pEptwPNrzE0",
        "outputId": "3ad4a9d4-bef4-4a00-952b-f77afe846f58"
      },
      "execution_count": 40,
      "outputs": [
        {
          "output_type": "stream",
          "name": "stdout",
          "text": [
            "Money he had in the starting 10\n",
            "enter the number of trails 1000\n",
            "proality of estimation for Gamler's problem  for 1000 is 0.488\n"
          ]
        }
      ]
    },
    {
      "cell_type": "markdown",
      "source": [
        "#Tossing a biased coin\n",
        "\n",
        "That is not uniform distribution"
      ],
      "metadata": {
        "id": "b8AkU2mMwxYS"
      }
    },
    {
      "cell_type": "code",
      "source": [
        "def baised(p,m):\n",
        "  return 2-(np.random.rand(m) < p)\n"
      ],
      "metadata": {
        "id": "GAoqk20swwUi"
      },
      "execution_count": 42,
      "outputs": []
    },
    {
      "cell_type": "code",
      "source": [
        "n=int(input(\"enter the number of trails \"))\n",
        "no_of_heads=0 # intializing the number of head as zero\n",
        "p=0.25\n",
        "for i in range(n): # iterating the loop for 2000 times\n",
        "  if baised(p,1) == 1:\n",
        "    no_of_heads=no_of_heads+1\n",
        "probality=no_of_heads/n # finding the probality by Monte carlo simulation\n",
        "probality"
      ],
      "metadata": {
        "colab": {
          "base_uri": "https://localhost:8080/"
        },
        "id": "l3SWVdmwxkr6",
        "outputId": "25213bda-6503-4b17-93e4-caafe33ac863"
      },
      "execution_count": 44,
      "outputs": [
        {
          "name": "stdout",
          "output_type": "stream",
          "text": [
            "enter the number of trails1000\n"
          ]
        },
        {
          "output_type": "execute_result",
          "data": {
            "text/plain": [
              "0.252"
            ]
          },
          "metadata": {},
          "execution_count": 44
        }
      ]
    },
    {
      "cell_type": "markdown",
      "source": [
        "# Gamler's problem with unbiased\n",
        "\n",
        "The Gambler's Ruin problem is essentially a Markov chain where the sequence of wealth amounts that gambler A has at any point in time determines the underlying structure. That is, at any point in time n, gambler A can have i wealth, where i also represents the state of the chain at time n.\n",
        "\n",
        "\n",
        "He tossess the coin, if heads then casino will pay him 1 unit.\n",
        "if tails then casino will detect money from him 1 unit.\n",
        "He starts him games with money of N units, he will continue, when money is in between 0 and N.\n",
        "\n",
        " That is if no money , automatically, he canot continue the game."
      ],
      "metadata": {
        "id": "hG51HTLr4i44"
      }
    },
    {
      "cell_type": "code",
      "source": [
        "no=0 # storing the number of success.\n",
        "N=int(input(\"Money he had in the starting \"))\n",
        "trails=int(input(\"enter the number of trails \"))\n",
        "p=0.25\n",
        "for i in range(trails):\n",
        "  k=5\n",
        "  while k>0 and k<N :\n",
        "     experiment=baised(p,1) #experiment\n",
        "     if experiment == 1:\n",
        "       k=k+1\n",
        "     else:\n",
        "       k=k-1\n",
        "  if k==0:\n",
        "    no=no+1\n",
        "probability1=no/trails# finding the probality bankrupty by Monte carlo simulation\n",
        "print(\"proality of estimation for Gamler's problem  for {} is {}\". format(trails, probability1 ))"
      ],
      "metadata": {
        "colab": {
          "base_uri": "https://localhost:8080/"
        },
        "id": "Xd9BfOup4pf4",
        "outputId": "136a4e2e-1f69-4b2b-b41f-f5d6c0470d6b"
      },
      "execution_count": 48,
      "outputs": [
        {
          "output_type": "stream",
          "name": "stdout",
          "text": [
            "Money he had in the starting 10\n",
            "enter the number of trails 1000\n",
            "proality of estimation for Gamler's problem  for 1000 is 0.995\n"
          ]
        }
      ]
    }
  ],
  "metadata": {
    "kernelspec": {
      "display_name": "Python 3",
      "language": "python",
      "name": "python3"
    },
    "language_info": {
      "codemirror_mode": {
        "name": "ipython",
        "version": 3
      },
      "file_extension": ".py",
      "mimetype": "text/x-python",
      "name": "python",
      "nbconvert_exporter": "python",
      "pygments_lexer": "ipython3",
      "version": "3.7.3"
    },
    "colab": {
      "name": "probability1.ipynb",
      "provenance": []
    }
  },
  "nbformat": 4,
  "nbformat_minor": 0
}